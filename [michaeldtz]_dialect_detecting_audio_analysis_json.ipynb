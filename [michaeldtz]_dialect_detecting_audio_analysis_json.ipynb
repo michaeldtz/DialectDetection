{
  "nbformat": 4,
  "nbformat_minor": 0,
  "metadata": {
    "kernelspec": {
      "display_name": "Python 3",
      "language": "python",
      "name": "python3"
    },
    "language_info": {
      "codemirror_mode": {
        "name": "ipython",
        "version": 3
      },
      "file_extension": ".py",
      "mimetype": "text/x-python",
      "name": "python",
      "nbconvert_exporter": "python",
      "pygments_lexer": "ipython3",
      "version": "3.7.6"
    },
    "colab": {
      "name": "[michaeldtz] dialect_detecting_audio_analysis_json.ipynb",
      "provenance": [],
      "collapsed_sections": [],
      "toc_visible": true,
      "include_colab_link": true
    },
    "accelerator": "GPU"
  },
  "cells": [
    {
      "cell_type": "markdown",
      "metadata": {
        "id": "view-in-github",
        "colab_type": "text"
      },
      "source": [
        "<a href=\"https://colab.research.google.com/github/michaeldtz/DialectDetection/blob/master/%5Bmichaeldtz%5D_dialect_detecting_audio_analysis_json.ipynb\" target=\"_parent\"><img src=\"https://colab.research.google.com/assets/colab-badge.svg\" alt=\"Open In Colab\"/></a>"
      ]
    },
    {
      "cell_type": "markdown",
      "metadata": {
        "id": "gTqaBgOYOj5B",
        "colab_type": "text"
      },
      "source": [
        "# Dialect Detecting Audio Analysis\n",
        "\n",
        "This notebook contains some experiments to detect German dialects from short audio clips. The data are 20 seconds audio clips with various dialects that have been collected and stored in GCS (https://console.cloud.google.com/storage/browser/dialectdetector-input-data). To start working with the audio files we leverage the librosa library in Python that needs to be installed first. "
      ]
    },
    {
      "cell_type": "markdown",
      "metadata": {
        "id": "U0Q5EUo2OwXI",
        "colab_type": "text"
      },
      "source": [
        "## Initialization \n",
        "Let's start with some basic preparation work, like mounting the GCS bucket that contains the audio clips using GCS Fuse  and installing librosa. "
      ]
    },
    {
      "cell_type": "code",
      "metadata": {
        "id": "Mv4sw0VwMr7S",
        "colab_type": "code",
        "colab": {}
      },
      "source": [
        "import os\n",
        "import shutil\n",
        "import random\n",
        "import time \n",
        "\n",
        "import pandas as pd\n",
        "import numpy  as np"
      ],
      "execution_count": null,
      "outputs": []
    },
    {
      "cell_type": "code",
      "metadata": {
        "id": "sFFqnKv8QVFI",
        "colab_type": "code",
        "colab": {}
      },
      "source": [
        "# Define the path for the data\n",
        "data_dir_root = os.getcwd()  + \"/dialectdetector-data\"\n",
        "sync_data_locally = True\n",
        "\n",
        "print (\"The directory for the data of the GCS bucket is %s\" % data_dir_root)"
      ],
      "execution_count": null,
      "outputs": []
    },
    {
      "cell_type": "code",
      "metadata": {
        "id": "rVyrQzLjXZ1T",
        "colab_type": "code",
        "colab": {}
      },
      "source": [
        "# Decide if you want to keep the data on the mounted GCS share or if to copy it locally\n",
        "sync_data_locally = True\n",
        "\n",
        "if sync_data_locally:\n",
        "  \n",
        "  !mkdir {data_dir_root}\n",
        "  !mkdir {data_dir_root}/audioclips\n",
        "  print(\"Syncing audio clips to local storage\")\n",
        "  !gsutil -m -q rsync -r \"gs://dialectdetector-input-data/audioclips\" {data_dir_root}/audioclips \n",
        "\n",
        "else:\n",
        "  # Install GCSFuse\n",
        "  !echo \"deb http://packages.cloud.google.com/apt gcsfuse-bionic main\" > /etc/apt/sources.list.d/gcsfuse.list\n",
        "  !curl https://packages.cloud.google.com/apt/doc/apt-key.gpg | apt-key add -\n",
        "  !apt -qq update\n",
        "  !apt -qq install gcsfuse\n",
        "  print(\"GCSFuse Installed\")\n",
        "\n",
        "  from google.colab import auth\n",
        "  auth.authenticate_user()\n",
        "\n",
        "  ## Make a directory name for yor bucket in Colab and mount the bucket at that directory in Colab ##\n",
        "  if os.path.isdir(data_dir_root) is False:\n",
        "    !mkdir {data_dir_root}\n",
        "    !gcsfuse --implicit-dirs dialectdetector-input-data {data_dir_root}\n",
        "  else:\n",
        "    print(\"directory for mount already existing\")\n",
        "\n",
        "!ls {data_dir_root}\n"
      ],
      "execution_count": null,
      "outputs": []
    },
    {
      "cell_type": "code",
      "metadata": {
        "id": "1d9kLfl7Oj5G",
        "colab_type": "code",
        "colab": {}
      },
      "source": [
        "# Install librosa\n",
        "!sudo apt-get install -y libsndfile1-dev\n",
        "!pip -qq install librosa\n",
        "\n",
        "# Test the librosa installation\n",
        "import librosa\n",
        "import librosa.display\n",
        "print(\"Librosa installed in version \" + librosa.__version__)"
      ],
      "execution_count": null,
      "outputs": []
    },
    {
      "cell_type": "markdown",
      "metadata": {
        "id": "CMXr1_4CPA5x",
        "colab_type": "text"
      },
      "source": [
        "Let's check the data and plot some initial visualizations that help to understand the data and the various representations (e.g. MFCC)"
      ]
    },
    {
      "cell_type": "code",
      "metadata": {
        "id": "h-RLMX6WOj5N",
        "colab_type": "code",
        "colab": {}
      },
      "source": [
        "# Displays are built with matplotlib \n",
        "import matplotlib.pyplot as plt\n",
        "import matplotlib.style as ms\n",
        "ms.use('seaborn-muted')\n",
        "\n",
        "# Render figures interactively in the notebook\n",
        "%matplotlib nbagg\n",
        "%matplotlib inline\n",
        "\n",
        "# IPython gives us an audio widget for playback\n",
        "import IPython\n",
        "from IPython.display import Audio\n",
        "\n",
        "print(\"Matplotlib imported and prepared\")"
      ],
      "execution_count": null,
      "outputs": []
    },
    {
      "cell_type": "code",
      "metadata": {
        "id": "zcsf6rdXOj5P",
        "colab_type": "code",
        "colab": {}
      },
      "source": [
        "test_file = data_dir_root + \"/audioclips/pfaelzisch/6HWUsH27YD0_0.wav\"\n",
        "y, sr = librosa.load(test_file, sr=8500)\n",
        "print(y.shape, sr)\n",
        "display(Audio(data=y, rate=sr))"
      ],
      "execution_count": null,
      "outputs": []
    },
    {
      "cell_type": "code",
      "metadata": {
        "id": "I062nvS4K7Jw",
        "colab_type": "code",
        "colab": {}
      },
      "source": [
        "print(y.mean())\n",
        "print(y.std())\n",
        "\n",
        "plt.hist(y, bins='auto')\n",
        "plt.show()"
      ],
      "execution_count": null,
      "outputs": []
    },
    {
      "cell_type": "code",
      "metadata": {
        "id": "PgeTZtoxOj5T",
        "colab_type": "code",
        "colab": {}
      },
      "source": [
        "plt.figure()\n",
        "plt.subplot(3, 1, 2)\n",
        "librosa.display.waveplot(y, sr=sr)\n",
        "plt.title('Monophonic')"
      ],
      "execution_count": null,
      "outputs": []
    },
    {
      "cell_type": "code",
      "metadata": {
        "id": "wr-Hbx8PK00T",
        "colab_type": "code",
        "colab": {}
      },
      "source": [
        "# Extract the MFCC \n",
        "mfccs = librosa.feature.mfcc(y=y, sr=sr, n_mfcc=120)\n",
        "print(mfccs.shape)\n",
        "mfccsMean = np.mean(mfccs.T,axis=0)\n",
        "print(mfccsMean.shape)\n",
        "\n",
        "print(mfccs.mean())\n",
        "print(mfccs.std())\n",
        "print(mfccsMean.mean())\n",
        "print(mfccsMean.std())\n",
        "\n",
        "plt.hist(mfccsMean, bins='auto')\n",
        "plt.show()\n"
      ],
      "execution_count": null,
      "outputs": []
    },
    {
      "cell_type": "code",
      "metadata": {
        "id": "jfc6mnxkOj5X",
        "colab_type": "code",
        "colab": {}
      },
      "source": [
        "# Visualize the Mel Spectogram\n",
        "melspec = librosa.feature.melspectrogram(y=y, sr=sr)\n",
        "print(\"melspec is {} long\".format(melspec.shape))\n",
        "\n",
        "db_spec = librosa.power_to_db(melspec, ref=np.max,)\n",
        "print(\"db_spec is {} long\".format(melspec.shape))\n",
        "librosa.display.specshow(db_spec,y_axis='mel', x_axis='s', sr=sr)\n",
        "plt.colorbar();"
      ],
      "execution_count": null,
      "outputs": []
    },
    {
      "cell_type": "markdown",
      "metadata": {
        "id": "QjEmeMoePKdV",
        "colab_type": "text"
      },
      "source": [
        "## Data Preparation\n",
        "Now lets download the audio clips and organize them as needed for the first training challenge. For a proper and efficient colab usage we set up a local mount to a drive and synchronize the content from its original google cloud storage location to the drive mount. "
      ]
    },
    {
      "cell_type": "code",
      "metadata": {
        "id": "pyW9OgvNPKGi",
        "colab_type": "code",
        "colab": {}
      },
      "source": [
        "# Count files by folder\n",
        "audioclip_dir = data_dir_root + \"/audioclips\"\n",
        "folders = sorted(os.listdir(audioclip_dir))\n",
        "all_files = []\n",
        "files_by_dialect = {\n",
        "    \"pfaelzisch\" : [],\n",
        "    \"non-pfaelzisch\" : []\n",
        "}\n",
        "\n",
        "for folder in folders:\n",
        "    files = os.listdir(audioclip_dir + \"/\" + folder)\n",
        "    print(\"{}: {}\".format(folder,len(files)))\n",
        "\n",
        "    for file in files:\n",
        "        entry = {\n",
        "            \"name\"    : file,\n",
        "            \"dialect\" : folder,\n",
        "            \"path\"    : audioclip_dir + \"/\" + folder + \"/\" + file\n",
        "        }\n",
        "        \n",
        "        all_files.append(entry)        \n",
        "        if folder == \"pfaelzisch\":\n",
        "            files_by_dialect[\"pfaelzisch\"].append(entry)\n",
        "        else:\n",
        "            files_by_dialect[\"non-pfaelzisch\"].append(entry)\n",
        "\n",
        "\n",
        "print(\"total: {}\".format(len(all_files)))\n",
        "print(\"total pfaelzisch: {}\".format(len(files_by_dialect[\"pfaelzisch\"])))\n",
        "print(\"total non-pfaelzisch: {}\".format(len(files_by_dialect[\"non-pfaelzisch\"])))"
      ],
      "execution_count": null,
      "outputs": []
    },
    {
      "cell_type": "markdown",
      "metadata": {
        "id": "MChuitSjvwyT",
        "colab_type": "text"
      },
      "source": [
        "In the very first experiements we want to create a simple binary classifier. Therefore we create only two classes: pfalzisch and non-pfaelzisch. Both have around 1500 audioclips (a 10 seconds). The next steps catorizes them into two classes, takes 1500 of each and shuffles them into train, test and validation data sets."
      ]
    },
    {
      "cell_type": "code",
      "metadata": {
        "id": "1D1kfPU2PKGk",
        "colab_type": "code",
        "colab": {}
      },
      "source": [
        "# Lets take the top 1500 per dataset, randomize and split into train, test, val \n",
        "ds_pfl = files_by_dialect[\"pfaelzisch\"][:1500]\n",
        "ds_npf = files_by_dialect[\"non-pfaelzisch\"][:1500]\n",
        "\n",
        "random.shuffle(ds_pfl)\n",
        "random.shuffle(ds_npf)\n",
        "\n",
        "ds_pfl_train = ds_pfl[:1000]\n",
        "ds_pfl_test  = ds_pfl[1000:1250]\n",
        "ds_pfl_val   = ds_pfl[1250:1500]\n",
        "\n",
        "ds_npf_train = ds_npf[:1000]\n",
        "ds_npf_test  = ds_npf[1000:1250]\n",
        "ds_npf_val   = ds_npf[1250:1500]\n",
        "\n",
        "ds_mean      = { \"all\": ds_pfl[900:1100] + ds_npf[900:1100] }\n",
        "\n",
        "datasets = {\n",
        "    \"train\" : {\n",
        "        \"pfl\" : ds_pfl_train,\n",
        "        \"npf\" : ds_npf_train\n",
        "    },\n",
        "    \"test\"  : {\n",
        "        \"pfl\" : ds_pfl_test, \n",
        "        \"npf\" : ds_npf_test\n",
        "    },\n",
        "    \"val\" :   {\n",
        "        \"pfl\" : ds_pfl_val,\n",
        "        \"npf\" : ds_npf_val \n",
        "    }\n",
        "}\n",
        "\n",
        "print(\"some examples out of the created datasets\")\n",
        "print(datasets[\"train\"][\"pfl\"][104])\n",
        "print(datasets[\"test\"][\"npf\"][76])"
      ],
      "execution_count": null,
      "outputs": []
    },
    {
      "cell_type": "markdown",
      "metadata": {
        "id": "qnSb9quORjrt",
        "colab_type": "text"
      },
      "source": [
        "## Technical Preparation\n",
        "In the next step we implement a little data Generator class for Keras that simplifies the handling of data access for the training and validation."
      ]
    },
    {
      "cell_type": "code",
      "metadata": {
        "id": "zMUe2lp8R1wr",
        "colab_type": "code",
        "colab": {}
      },
      "source": [
        "import os\n",
        "import librosa\n",
        "\n",
        "import numpy as np\n",
        "import keras\n",
        "\n",
        "class AudioDataGenerator(keras.utils.Sequence):\n",
        "\n",
        "    def __init__(self, fileList, labels, batch_size=32, sr=8500, dim=None, n_classes=2, n_split=1, audio_rep=\"default\", audio_rep_params={}, shuffle=True):\n",
        "        self.dim = dim\n",
        "        self.batch_size = batch_size\n",
        "        self.labels = labels\n",
        "        self.fileList = fileList\n",
        "        self.n_classes = n_classes\n",
        "        self.shuffle = shuffle\n",
        "        self.sr = sr\n",
        "        self.audio_rep = audio_rep\n",
        "        self.audio_rep_params = audio_rep_params\n",
        "        self.n_split = n_split\n",
        "        self.norm_mean = 0\n",
        "        self.norm_devi  = 1\n",
        "\n",
        "        if self.dim == None:\n",
        "          self.__determine_dim__()\n",
        "          \n",
        "\n",
        "        self.on_epoch_end()\n",
        "\n",
        "    def __len__(self):\n",
        "        return int(np.floor(len(self.fileList) / self.batch_size))\n",
        "    \n",
        "  \n",
        "    def __getitem__(self, index):\n",
        "        #print(\"Generator: start loading batch #{}\".format(index))\n",
        "        start_ts = int(round(time.time() * 1000))\n",
        "        # Generate indexes of the batch\n",
        "        indexes = self.indexes[index*self.batch_size:(index+1)*self.batch_size]\n",
        "\n",
        "        # Find list of filenames\n",
        "        files_in_batch = [self.fileList[k] for k in indexes]\n",
        "\n",
        "        # Generate data\n",
        "        X, y = self.__data_generation(files_in_batch)\n",
        "\n",
        "        time_to_load = int((int(round(time.time() * 1000)) - start_ts)/1000)\n",
        "        #print(\"Generator: Loaded audio data #{} in {} seconds\".format(index,time_to_load))\n",
        "\n",
        "        return X, y\n",
        "\n",
        "    def on_epoch_end(self):\n",
        "        # Updates indexes after each epoch\n",
        "        self.indexes = np.arange(len(self.fileList))\n",
        "        if self.shuffle == True:\n",
        "            np.random.shuffle(self.indexes)\n",
        "    \n",
        "    def normalize(self,sampleBatches=20,deviation_type=None):\n",
        "        self.norm_mean = 0\n",
        "        self.norm_devi = 1\n",
        "        \n",
        "        values = []\n",
        "\n",
        "        for i in range(0,sampleBatches):\n",
        "          #print(\"normalization batch {} of {} \".format(i,sampleBatches))\n",
        "          x,y = self.__getitem__(i)\n",
        "          values = np.concatenate((values,x.flatten()))\n",
        "\n",
        "        self.norm_mean = np.mean(values)\n",
        "\n",
        "        if deviation_type == \"max\":\n",
        "          self.norm_devi = np.max(np.abs(values))\n",
        "        else:\n",
        "          self.norm_devi = np.std(values)\n",
        "\n",
        "        return { \"mean\" : self.norm_mean, \"deviation\": self.norm_devi }\n",
        "    \n",
        "    def set_normalization(self, mean, deviation):\n",
        "        self.norm_mean = mean\n",
        "        self.norm_devi = deviation\n",
        "\n",
        "    def __determine_dim__(self):\n",
        "        data = self.__loadaudiodata__(self.fileList[0][\"path\"])\n",
        "        \n",
        "        if len(data.shape) == 1:\n",
        "          self.dim = (data.shape[0],)\n",
        "        else:\n",
        "          self.dim = data.shape\n",
        "\n",
        "    def __loadaudiodata__(self, filepath):\n",
        "        #print(\"Loading file {}\".format(filepath))\n",
        "        data, sr = librosa.load(filepath, sr=self.sr)\n",
        "\n",
        "        if self.audio_rep == \"default\":\n",
        "          data = (data - self.norm_mean) / self.norm_devi\n",
        "          return data\n",
        "        elif self.audio_rep == \"mfccs\" or self.audio_rep == \"mfccs_meaned\":\n",
        "          mfccs = librosa.feature.mfcc(y=data, sr=sr, **self.audio_rep_params)\n",
        "          #print(\"Shape of mfccs\", mfccs.shape)\n",
        "\n",
        "          if self.audio_rep == \"mfccs_meaned\":\n",
        "            mfccs = np.mean(mfccs.T,axis=0)\n",
        "            mfccs = ( mfccs - self.norm_mean ) / self.norm_devi\n",
        "          else:\n",
        "            mfccs = ( mfccs - self.norm_mean ) / self.norm_devi\n",
        "\n",
        "\n",
        "          return mfccs\n",
        "\n",
        "    def __data_generation(self, files):\n",
        "        # X : (n_samples, *dim, n_channels)\n",
        "        # Initialization\n",
        "        X = np.empty((self.batch_size, *self.dim))\n",
        "        y = np.empty((self.batch_size), dtype=int)\n",
        "\n",
        "        # Generate data\n",
        "        for i, fileinfo in enumerate(files):\n",
        "            \n",
        "            # Load audio file and store values\n",
        "            data = self.__loadaudiodata__(fileinfo[\"path\"])\n",
        "            X[i,] = data.reshape(*self.dim)\n",
        "\n",
        "            # Store class\n",
        "            y[i] = self.labels[fileinfo[\"name\"]]\n",
        "        \n",
        "        return X, keras.utils.to_categorical(y, num_classes=self.n_classes)\n",
        "\n",
        "    @staticmethod\n",
        "    def factory(filelist,classes,batch_size=32,dim=None,n_split=1,audio_rep=\"default\",audio_rep_params={},shuffle=True):\n",
        "        \n",
        "        all_files  = []\n",
        "        all_labels = {}\n",
        "\n",
        "        for classIdx,classs in enumerate(classes):\n",
        "            \n",
        "            for file in filelist[classs]:\n",
        "                all_files.append(file)\n",
        "                all_labels[file[\"name\"]] = classIdx\n",
        "        \n",
        "        return  AudioDataGenerator(all_files,all_labels,batch_size=batch_size,dim=dim,n_classes=len(classes),n_split=n_split,audio_rep=audio_rep,audio_rep_params=audio_rep_params,shuffle=shuffle)\n",
        "\n",
        "print(\"Audiogenerator class created and ready to use\")\n",
        "\n",
        "check_generator = AudioDataGenerator.factory(datasets[\"train\"],(\"pfl\",\"npf\"),batch_size=1,audio_rep=\"mfccs\",audio_rep_params={\"n_mfcc\":128},dim=(128*167,1))\n",
        "x,y = check_generator.__getitem__(0)\n",
        "\n",
        "print(x.shape)\n"
      ],
      "execution_count": null,
      "outputs": []
    },
    {
      "cell_type": "code",
      "metadata": {
        "id": "qhpFiWs8n_0-",
        "colab_type": "code",
        "cellView": "code",
        "colab": {}
      },
      "source": [
        "# for normalization calculate mean and std over a subset of data using raw audio data\n",
        "norm_generator_raw= AudioDataGenerator.factory(ds_mean,(\"all\",))\n",
        "norm_params_raw   = norm_generator_raw.normalize(sampleBatches=3)\n",
        "\n",
        "print(norm_params_raw)\n",
        "\n",
        "# for normalization calculate mean and std over a subset of data using MFCCS\n",
        "norm_generator_mfccs = AudioDataGenerator.factory(ds_mean,(\"all\",),audio_rep=\"mfccs\",audio_rep_params={\"n_mfcc\":128},dim=(128*167,1))\n",
        "norm_params_mfccs    = norm_generator_mfccs.normalize(sampleBatches=3)\n",
        "\n",
        "print(norm_params_mfccs)"
      ],
      "execution_count": null,
      "outputs": []
    },
    {
      "cell_type": "code",
      "metadata": {
        "id": "Dy0dWp6Ya7tn",
        "colab_type": "code",
        "colab": {}
      },
      "source": [
        "# Check the raw audio data normalization\n",
        "norm_generator_raw_check = AudioDataGenerator.factory(ds_mean,(\"all\",),batch_size=1)\n",
        "norm_generator_raw_check.set_normalization(**norm_params_raw)\n",
        "x,y = norm_generator_raw_check.__getitem__(0)\n",
        "plt.hist(x[0], bins='auto')\n",
        "plt.show()\n",
        "\n",
        "# Check the MFCCS normalization\n",
        "norm_generator_mfccs_check = AudioDataGenerator.factory(ds_mean,(\"all\",),batch_size=1,audio_rep=\"mfccs\",audio_rep_params={\"n_mfcc\":128},dim=(128*167,1))\n",
        "norm_generator_mfccs_check.set_normalization(**norm_params_mfccs)\n",
        "\n",
        "x,y = norm_generator_mfccs_check.__getitem__(0)\n",
        "plt.hist(x[0].reshape(21376), bins='auto')\n",
        "plt.show()"
      ],
      "execution_count": null,
      "outputs": []
    },
    {
      "cell_type": "code",
      "metadata": {
        "id": "Twao1K69fgXH",
        "colab_type": "code",
        "colab": {}
      },
      "source": [
        "# Test the normalization\n",
        "valuesG1 = list(filter(lambda x: x < -1  or  x > 1, x[0]))\n",
        "valuesI1 = list(filter(lambda x: x >= -1 and x <= 1, x[0]))\n",
        "print(len(valuesG1))\n",
        "print(len(valuesI1))\n",
        "print(len(x[0]))\n",
        "print(valuesG1)\n",
        "\n",
        "print(x[0].mean())\n",
        "print(x[0].std())"
      ],
      "execution_count": null,
      "outputs": []
    },
    {
      "cell_type": "code",
      "metadata": {
        "id": "6j3gab1dRhOB",
        "colab_type": "code",
        "colab": {}
      },
      "source": [
        "# import Keras \n",
        "import keras \n",
        "from keras.models import Sequential\n",
        "from keras.layers import Dense\n",
        "from keras import backend as K\n",
        "\n",
        "# Prepare a function to plot the accuracy\n",
        "import matplotlib.pyplot as plt\n",
        "import matplotlib.style as ms\n",
        "ms.use('seaborn-muted')\n",
        "\n",
        "def plotTrainingResults(history,key):\n",
        "    plt.clf()\n",
        "    trn_acc = history[key]\n",
        "    val_acc = history[\"val_\" + key]\n",
        "    \n",
        "    epochs = range(1, len(trn_acc)+1)\n",
        "    \n",
        "    plt.plot(epochs, trn_acc,'bo', label=\"train\")\n",
        "    plt.plot(epochs, val_acc,'b',  label=\"val\")\n",
        "    plt.title(\"Accuracy\")\n",
        "    plt.xlabel(\"Epochs\")\n",
        "    plt.ylabel(\"Accuracy\")\n",
        "    plt.legend()\n",
        "    plt.show()\n",
        "\n",
        "print(\"ready to build models\")"
      ],
      "execution_count": null,
      "outputs": []
    },
    {
      "cell_type": "markdown",
      "metadata": {
        "id": "XqNOB5YIRhN3",
        "colab_type": "text"
      },
      "source": [
        "## Training a Fully Connected NN\n",
        "\n",
        "In this chapter we explore how a FCNN is able to handle this challenge."
      ]
    },
    {
      "cell_type": "code",
      "metadata": {
        "id": "wxAG9F6ERhOH",
        "colab_type": "code",
        "colab": {}
      },
      "source": [
        "# Set the parameters\n",
        "batch_size = 32\n",
        "steps_per_epoch=10\n",
        "epochs=20\n",
        "\n",
        "audio_rep = \"mfccs\"\n",
        "audio_rep_params = { \"n_mfcc\": 128 }\n",
        "t_per_mfcss = 167\n",
        "input_dim=(audio_rep_params[\"n_mfcc\"]*t_per_mfcss,)\n",
        "\n",
        "# Prepare the audio generators\n",
        "train_generator = AudioDataGenerator.factory(datasets[\"train\"],(\"pfl\",\"npf\"),dim=input_dim,batch_size=batch_size,audio_rep=audio_rep ,audio_rep_params=audio_rep_params)\n",
        "valid_generator = AudioDataGenerator.factory(datasets[\"val\"]  ,(\"pfl\",\"npf\"),dim=input_dim,batch_size=batch_size,audio_rep=audio_rep ,audio_rep_params=audio_rep_params)\n",
        "print(\"Checking the dims of both generators: train has {}, val has {}\".format(train_generator.dim,valid_generator.dim))\n",
        "\n",
        "train_generator.set_normalization(**norm_params_mfccs)\n",
        "valid_generator.set_normalization(**norm_params_mfccs)\n",
        "\n",
        "# Resets the layer idx\n",
        "K.clear_session()\n",
        "\n",
        "# Design model\n",
        "model = Sequential()\n",
        "model.add(Dense(64,  activation='relu', input_shape=input_dim))\n",
        "model.add(Dense(32,   activation='relu'))\n",
        "model.add(Dense(16,   activation='relu'))\n",
        "model.add(Dense(2,   activation='sigmoid'))\n",
        "\n",
        "\n",
        "model.compile(optimizer='rmsprop',loss='binary_crossentropy',metrics=['accuracy'])\n",
        "model.summary()\n",
        "\n",
        "# Train model on dataset\n",
        "history = model.fit_generator(steps_per_epoch=steps_per_epoch,epochs=epochs,generator=train_generator,validation_data=valid_generator,validation_steps=steps_per_epoch,workers=0,use_multiprocessing=True)\n",
        "\n",
        "print(history.history)\n",
        "plotTrainingResults(history.history,\"accuracy\")  "
      ],
      "execution_count": null,
      "outputs": []
    },
    {
      "cell_type": "code",
      "metadata": {
        "id": "VwZSph4wcitn",
        "colab_type": "code",
        "colab": {}
      },
      "source": [
        "print(history.history)\n",
        "plotTrainingResults(history.history,\"loss\")  "
      ],
      "execution_count": null,
      "outputs": []
    },
    {
      "cell_type": "markdown",
      "metadata": {
        "id": "OV-w5S9IOOoW",
        "colab_type": "text"
      },
      "source": [
        "## Training a Convolutional NN\n",
        "\n",
        "After the fully connected NN I try to train a convolutional network using Conv1D layers. This has been inspired by a model found on kaggle (https://www.kaggle.com/kcs93023/keras-sequential-conv1d-model-classification)"
      ]
    },
    {
      "cell_type": "code",
      "metadata": {
        "id": "jVCami1UOOok",
        "colab_type": "code",
        "colab": {
          "base_uri": "https://localhost:8080/",
          "height": 1000
        },
        "outputId": "b6f240d0-d71b-4870-eba0-95588e3bbc9c"
      },
      "source": [
        "# The model gets created\n",
        "\n",
        "from keras.models import Sequential\n",
        "from keras import layers\n",
        "from keras import optimizers\n",
        "from keras import backend as K\n",
        "\n",
        "# Set the parameters\n",
        "batch_size = 32\n",
        "steps_per_epoch=10\n",
        "epochs=20\n",
        "\n",
        "audio_rep = \"mfccs\"\n",
        "audio_rep_params = { \"n_mfcc\": 128 }\n",
        "t_per_mfcss = 167\n",
        "input_dim=(audio_rep_params[\"n_mfcc\"]*t_per_mfcss,1)\n",
        "\n",
        "# Prepare the audio generators\n",
        "train_generator = AudioDataGenerator.factory(datasets[\"train\"],(\"pfl\",\"npf\"),dim=input_dim,batch_size=batch_size,audio_rep=audio_rep ,audio_rep_params=audio_rep_params)\n",
        "valid_generator = AudioDataGenerator.factory(datasets[\"val\"]  ,(\"pfl\",\"npf\"),dim=input_dim,batch_size=batch_size,audio_rep=audio_rep ,audio_rep_params=audio_rep_params)\n",
        "print(\"Checking the dims of both generators: train has {}, val has {}\".format(train_generator.dim,valid_generator.dim))\n",
        "\n",
        "train_generator.set_normalization(**norm_params_mfccs)\n",
        "valid_generator.set_normalization(**norm_params_mfccs)\n",
        "\n",
        "# Resets the layer idx\n",
        "K.clear_session()\n",
        "\n",
        "dr_rate = 0.5\n",
        "\n",
        "# Design model\n",
        "model = Sequential()\n",
        "model.add(layers.Conv1D(8, 11, padding='valid', activation=\"relu\", strides=1, input_shape=input_dim))\n",
        "model.add(layers.MaxPooling1D(2))\n",
        "#model.add(layers.Dropout(dr_rate))\n",
        "\n",
        "model.add(layers.Conv1D(16, 7, padding='valid', activation=\"relu\", strides=1))\n",
        "model.add(layers.MaxPooling1D(2))\n",
        "#model.add(layers.Dropout(dr_rate))\n",
        "\n",
        "model.add(layers.Conv1D(32, 5, padding='valid', activation=\"relu\", strides=1))\n",
        "model.add(layers.MaxPooling1D(2))\n",
        "#model.add(layers.Dropout(dr_rate))\n",
        "\n",
        "model.add(layers.Conv1D(64, 5, padding='valid', activation=\"relu\", strides=1))\n",
        "model.add(layers.MaxPooling1D(2))\n",
        "#model.add(layers.Dropout(dr_rate))\n",
        "\n",
        "model.add(layers.Conv1D(128, 3, padding='valid', activation=\"relu\", strides=1))\n",
        "model.add(layers.MaxPooling1D(2))\n",
        "model.add(layers.Flatten())\n",
        "\n",
        "model.add(layers.Dense(64, activation='relu'))\n",
        "#model.add(layers.Dropout(dr_rate))\n",
        "model.add(layers.Dense(16, activation='relu'))\n",
        "#model.add(layers.Dropout(dr_rate))\n",
        "\n",
        "model.add(layers.Dense(2, activation='sigmoid'))\n",
        "\n",
        "model.compile(optimizers.rmsprop(lr=0.001),loss=\"binary_crossentropy\",metrics=[\"accuracy\"])\n",
        "model.summary()\n",
        "\n",
        "\n",
        "# Train model on dataset\n",
        "history = model.fit_generator(steps_per_epoch=steps_per_epoch,epochs=epochs,generator=train_generator,validation_data=valid_generator,validation_steps=steps_per_epoch,workers=0,use_multiprocessing=True)\n",
        "\n",
        "print(history.history)\n",
        "plotTrainingResults(history.history,\"accuracy\")  "
      ],
      "execution_count": null,
      "outputs": [
        {
          "output_type": "stream",
          "text": [
            "Checking the dims of both generators: train has (21376, 1), val has (21376, 1)\n",
            "Model: \"sequential_1\"\n",
            "_________________________________________________________________\n",
            "Layer (type)                 Output Shape              Param #   \n",
            "=================================================================\n",
            "conv1d_1 (Conv1D)            (None, 21366, 8)          96        \n",
            "_________________________________________________________________\n",
            "max_pooling1d_1 (MaxPooling1 (None, 10683, 8)          0         \n",
            "_________________________________________________________________\n",
            "conv1d_2 (Conv1D)            (None, 10677, 16)         912       \n",
            "_________________________________________________________________\n",
            "max_pooling1d_2 (MaxPooling1 (None, 5338, 16)          0         \n",
            "_________________________________________________________________\n",
            "conv1d_3 (Conv1D)            (None, 5334, 32)          2592      \n",
            "_________________________________________________________________\n",
            "max_pooling1d_3 (MaxPooling1 (None, 2667, 32)          0         \n",
            "_________________________________________________________________\n",
            "conv1d_4 (Conv1D)            (None, 2663, 64)          10304     \n",
            "_________________________________________________________________\n",
            "max_pooling1d_4 (MaxPooling1 (None, 1331, 64)          0         \n",
            "_________________________________________________________________\n",
            "conv1d_5 (Conv1D)            (None, 1329, 128)         24704     \n",
            "_________________________________________________________________\n",
            "max_pooling1d_5 (MaxPooling1 (None, 664, 128)          0         \n",
            "_________________________________________________________________\n",
            "flatten_1 (Flatten)          (None, 84992)             0         \n",
            "_________________________________________________________________\n",
            "dense_1 (Dense)              (None, 64)                5439552   \n",
            "_________________________________________________________________\n",
            "dense_2 (Dense)              (None, 16)                1040      \n",
            "_________________________________________________________________\n",
            "dense_3 (Dense)              (None, 2)                 34        \n",
            "=================================================================\n",
            "Total params: 5,479,234\n",
            "Trainable params: 5,479,234\n",
            "Non-trainable params: 0\n",
            "_________________________________________________________________\n",
            "Epoch 1/20\n",
            "10/10 [==============================] - 403s 40s/step - loss: 0.8849 - accuracy: 0.5281 - val_loss: 0.6864 - val_accuracy: 0.5813\n",
            "Epoch 2/20\n",
            "10/10 [==============================] - 395s 40s/step - loss: 0.6767 - accuracy: 0.6000 - val_loss: 0.6644 - val_accuracy: 0.6938\n",
            "Epoch 3/20\n",
            "10/10 [==============================] - 398s 40s/step - loss: 0.6549 - accuracy: 0.6641 - val_loss: 0.6621 - val_accuracy: 0.6828\n",
            "Epoch 4/20\n",
            "10/10 [==============================] - 402s 40s/step - loss: 0.5617 - accuracy: 0.7484 - val_loss: 0.7594 - val_accuracy: 0.6609\n",
            "Epoch 5/20\n",
            "10/10 [==============================] - 403s 40s/step - loss: 0.5703 - accuracy: 0.6984 - val_loss: 0.6037 - val_accuracy: 0.7250\n",
            "Epoch 6/20\n",
            "10/10 [==============================] - 409s 41s/step - loss: 0.4769 - accuracy: 0.7719 - val_loss: 0.5849 - val_accuracy: 0.7547\n",
            "Epoch 7/20\n",
            "10/10 [==============================] - 410s 41s/step - loss: 0.4720 - accuracy: 0.7797 - val_loss: 0.5081 - val_accuracy: 0.7797\n",
            "Epoch 8/20\n",
            "10/10 [==============================] - 400s 40s/step - loss: 0.4774 - accuracy: 0.7781 - val_loss: 0.6005 - val_accuracy: 0.7719\n",
            "Epoch 9/20\n",
            "10/10 [==============================] - 402s 40s/step - loss: 0.4586 - accuracy: 0.7969 - val_loss: 0.4353 - val_accuracy: 0.8016\n",
            "Epoch 10/20\n",
            "10/10 [==============================] - 398s 40s/step - loss: 0.4656 - accuracy: 0.7984 - val_loss: 0.5195 - val_accuracy: 0.7609\n",
            "Epoch 11/20\n",
            "10/10 [==============================] - 398s 40s/step - loss: 0.3957 - accuracy: 0.8234 - val_loss: 0.4193 - val_accuracy: 0.8344\n",
            "Epoch 12/20\n",
            "10/10 [==============================] - 396s 40s/step - loss: 0.3720 - accuracy: 0.8266 - val_loss: 0.3536 - val_accuracy: 0.8453\n",
            "Epoch 13/20\n",
            "10/10 [==============================] - 401s 40s/step - loss: 0.3726 - accuracy: 0.8375 - val_loss: 0.5319 - val_accuracy: 0.8047\n",
            "Epoch 14/20\n",
            "10/10 [==============================] - 398s 40s/step - loss: 0.3590 - accuracy: 0.8516 - val_loss: 0.4542 - val_accuracy: 0.8344\n",
            "Epoch 15/20\n",
            "10/10 [==============================] - 397s 40s/step - loss: 0.3312 - accuracy: 0.8484 - val_loss: 0.7698 - val_accuracy: 0.6594\n",
            "Epoch 16/20\n",
            "10/10 [==============================] - 411s 41s/step - loss: 0.3337 - accuracy: 0.8391 - val_loss: 0.5138 - val_accuracy: 0.7906\n",
            "Epoch 17/20\n",
            "10/10 [==============================] - 405s 41s/step - loss: 0.2631 - accuracy: 0.8953 - val_loss: 0.3750 - val_accuracy: 0.8641\n",
            "Epoch 18/20\n",
            "10/10 [==============================] - 406s 41s/step - loss: 0.3233 - accuracy: 0.8859 - val_loss: 0.2918 - val_accuracy: 0.8531\n",
            "Epoch 19/20\n",
            "10/10 [==============================] - 410s 41s/step - loss: 0.2693 - accuracy: 0.8844 - val_loss: 0.6290 - val_accuracy: 0.7922\n",
            "Epoch 20/20\n",
            "10/10 [==============================] - 411s 41s/step - loss: 0.3621 - accuracy: 0.8562 - val_loss: 0.3539 - val_accuracy: 0.8656\n",
            "{'val_loss': [0.6863658428192139, 0.6643857359886169, 0.6620668172836304, 0.7594118714332581, 0.6036512851715088, 0.5848864912986755, 0.5080857276916504, 0.600480318069458, 0.4353070557117462, 0.5195097923278809, 0.4192662239074707, 0.3536035418510437, 0.5319163799285889, 0.4542235732078552, 0.7698018550872803, 0.5137921571731567, 0.3750050663948059, 0.29175928235054016, 0.628981351852417, 0.3538880944252014], 'val_accuracy': [0.581250011920929, 0.6937500238418579, 0.682812511920929, 0.660937488079071, 0.7250000238418579, 0.754687488079071, 0.7796875238418579, 0.7718750238418579, 0.801562488079071, 0.760937511920929, 0.8343750238418579, 0.8453124761581421, 0.8046875, 0.8343750238418579, 0.659375011920929, 0.7906249761581421, 0.864062488079071, 0.8531249761581421, 0.792187511920929, 0.8656250238418579], 'loss': [0.8849440574645996, 0.6766503095626831, 0.6549485802650452, 0.5616808980703354, 0.5703045010566712, 0.47694709002971647, 0.47200666964054105, 0.4773730307817459, 0.4586369752883911, 0.46562583148479464, 0.3956821709871292, 0.3719834715127945, 0.3726182132959366, 0.35898411870002744, 0.33119636178016665, 0.33365461975336075, 0.2631056159734726, 0.3232578471302986, 0.26934436708688736, 0.36205744445323945], 'accuracy': [0.528125, 0.6, 0.6640625, 0.7484375, 0.6984375, 0.771875, 0.7796875, 0.778125, 0.796875, 0.7984375, 0.8234375, 0.8265625, 0.8375, 0.8515625, 0.8484375, 0.8390625, 0.8953125, 0.8859375, 0.884375, 0.85625]}\n"
          ],
          "name": "stdout"
        },
        {
          "output_type": "display_data",
          "data": {
            "image/png": "[encoded data removed]",
            "text/plain": [
              "<Figure size 432x288 with 1 Axes>"
            ]
          },
          "metadata": {
            "tags": [],
            "needs_background": "light"
          }
        }
      ]
    },
    {
      "cell_type": "code",
      "metadata": {
        "id": "Ww_zh61mnii9",
        "colab_type": "code",
        "colab": {
          "base_uri": "https://localhost:8080/",
          "height": 332
        },
        "outputId": "56f40c4d-1e20-4402-c884-a4b05ed94804"
      },
      "source": [
        "print(history.history)\n",
        "plotTrainingResults(history.history,\"loss\")  "
      ],
      "execution_count": null,
      "outputs": [
        {
          "output_type": "stream",
          "text": [
            "{'val_loss': [0.6863658428192139, 0.6643857359886169, 0.6620668172836304, 0.7594118714332581, 0.6036512851715088, 0.5848864912986755, 0.5080857276916504, 0.600480318069458, 0.4353070557117462, 0.5195097923278809, 0.4192662239074707, 0.3536035418510437, 0.5319163799285889, 0.4542235732078552, 0.7698018550872803, 0.5137921571731567, 0.3750050663948059, 0.29175928235054016, 0.628981351852417, 0.3538880944252014], 'val_accuracy': [0.581250011920929, 0.6937500238418579, 0.682812511920929, 0.660937488079071, 0.7250000238418579, 0.754687488079071, 0.7796875238418579, 0.7718750238418579, 0.801562488079071, 0.760937511920929, 0.8343750238418579, 0.8453124761581421, 0.8046875, 0.8343750238418579, 0.659375011920929, 0.7906249761581421, 0.864062488079071, 0.8531249761581421, 0.792187511920929, 0.8656250238418579], 'loss': [0.8849440574645996, 0.6766503095626831, 0.6549485802650452, 0.5616808980703354, 0.5703045010566712, 0.47694709002971647, 0.47200666964054105, 0.4773730307817459, 0.4586369752883911, 0.46562583148479464, 0.3956821709871292, 0.3719834715127945, 0.3726182132959366, 0.35898411870002744, 0.33119636178016665, 0.33365461975336075, 0.2631056159734726, 0.3232578471302986, 0.26934436708688736, 0.36205744445323945], 'accuracy': [0.528125, 0.6, 0.6640625, 0.7484375, 0.6984375, 0.771875, 0.7796875, 0.778125, 0.796875, 0.7984375, 0.8234375, 0.8265625, 0.8375, 0.8515625, 0.8484375, 0.8390625, 0.8953125, 0.8859375, 0.884375, 0.85625]}\n"
          ],
          "name": "stdout"
        },
        {
          "output_type": "display_data",
          "data": {
            "image/png": "[encoded data removed]",
            "text/plain": [
              "<Figure size 432x288 with 1 Axes>"
            ]
          },
          "metadata": {
            "tags": [],
            "needs_background": "light"
          }
        }
      ]
    },
    {
      "cell_type": "code",
      "metadata": {
        "id": "YoCLdnlvOOon",
        "colab_type": "code",
        "colab": {}
      },
      "source": [
        "model.save(data_dir_root + \"/cnn\")"
      ],
      "execution_count": null,
      "outputs": []
    },
    {
      "cell_type": "markdown",
      "metadata": {
        "id": "CDY0zfjAOOop",
        "colab_type": "text"
      },
      "source": [
        "\n",
        "\n",
        "---\n",
        "\n",
        "\n",
        "## Appendix: Model Results\n",
        "The following chapter collects the results of various model experiements\n",
        "\n"
      ]
    },
    {
      "cell_type": "markdown",
      "metadata": {
        "id": "FOkjfVJauz1E",
        "colab_type": "text"
      },
      "source": [
        "## Further Ideas\n",
        "\n",
        "* Try a binary classification for a smaller set of dialects (Pfaelzisch vs. Englisch)\n",
        "* Check the models and data for language detection in general (Google LID5M)\n",
        "* Standardization with max() not std() \n",
        "\n"
      ]
    },
    {
      "cell_type": "markdown",
      "metadata": {
        "id": "hi_wrD0en9mB",
        "colab_type": "text"
      },
      "source": [
        "## Sources and Pointers\n",
        "\n",
        "- https://towardsdatascience.com/how-to-apply-machine-learning-and-deep-learning-methods-to-audio-analysis-615e286fcbbc"
      ]
    }
  ]
}